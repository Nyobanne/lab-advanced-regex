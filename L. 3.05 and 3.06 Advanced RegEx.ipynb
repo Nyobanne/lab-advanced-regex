{
 "cells": [
  {
   "cell_type": "code",
   "execution_count": null,
   "metadata": {},
   "outputs": [],
   "source": [
    "'''Matching Characters:\n",
    "\n",
    ".: Matches any single character except newline.\n",
    "[ ]: Matches any character inside the brackets.\n",
    "[^ ]: Matches any character not inside the brackets.\n",
    "\\: Escapes special characters.\n",
    "Quantifiers:\n",
    "\n",
    "*: Matches zero or more occurrences of the preceding element.\n",
    "+: Matches one or more occurrences of the preceding element. (at least)\n",
    "?: Matches zero or one occurrence of the preceding element.\n",
    "{n}: Matches exactly n occurrences of the preceding element.\n",
    "{n,}: Matches n or more occurrences of the preceding element.\n",
    "{n,m}: Matches between n and m occurrences of the preceding element.\n",
    "Anchors:\n",
    "\n",
    "^: Matches the start of the string.\n",
    "$: Matches the end of the string.\n",
    "Character Classes:\n",
    "\n",
    "\\d: Matches any digit.\n",
    "\\D: Matches any non-digit.\n",
    "\\w: Matches any word character (alphanumeric and underscore).\n",
    "\\W: Matches any non-word character.\n",
    "\\s: Matches any whitespace character.\n",
    "\\S: Matches any non-whitespace character.\n",
    "Grouping and Alternation:\n",
    "\n",
    "(): Groups patterns together.\n",
    "|: Alternation, matches either the pattern before or after it.\n",
    "Assertions:\n",
    "\n",
    "(?=...): Positive lookahead assertion.\n",
    "(?!...): Negative lookahead assertion.\n",
    "(?<=...): Positive lookbehind assertion.\n",
    "(?<!...): Negative lookbehind assertion.\n",
    "Modifiers:\n",
    "\n",
    "i: Case-insensitive matching.\n",
    "m: Multiline matching.\n",
    "s: Allows . to match newline characters.\n",
    "x: Ignores whitespace and comments within the pattern.'''"
   ]
  },
  {
   "cell_type": "code",
   "execution_count": null,
   "metadata": {},
   "outputs": [],
   "source": [
    "#‘[er]’ : set of character\n",
    "#character class\n",
    "#gr[aely]ly = gray, grey\n",
    "#[A-Z] = range of upper case letters. \n",
    "#\\ to remove special meaning of dash -\n",
    "'''\n",
    "Meta-characters\n",
    "[]  : Match set of characters\n",
    ".   : Match any character except the newline character (\\n)\n",
    "^   : 1) Match characters not listed if within set or \n",
    "      2) match beginning of string\n",
    "$   : Match end of string\n",
    "|   : Functions as an \"OR\" operator\n",
    "\n",
    "\n",
    "specify number of character in the pattern:\n",
    "*: Matches previous character 0 or more times\n",
    "+: Matches previous character 1 or more times\n",
    "?: Matches previous character 0 or 1 times (optional)\n",
    "{}: Matches previous characters however many times specified within:\n",
    "{n} : Exactly n times \n",
    "{n,} : At least n times\n",
    "{n,m} : Between n and m times\n",
    "\n",
    "\n",
    "Character classes\n",
    "\\w: Any alphanumeric character. equivalent to [A-Za-z0-9_]\n",
    "\\W: Any non-alphanumeric character. equivalent to [^A-Za-z0-9_]\n",
    "\\d: Any numeric character. [0-9]\n",
    "\\D: Any non-numeric character. [^0-9]\n",
    "\\s: Any whitespace characters. [ \\t\\n\\f]\n",
    "\\S: Any non-whitespace characters.\n",
    "'''"
   ]
  },
  {
   "cell_type": "code",
   "execution_count": 1,
   "metadata": {},
   "outputs": [],
   "source": [
    "import re #reg ex\n"
   ]
  },
  {
   "cell_type": "code",
   "execution_count": 3,
   "metadata": {},
   "outputs": [
    {
     "name": "stdout",
     "output_type": "stream",
     "text": [
      "['pers']\n"
     ]
    }
   ],
   "source": [
    "text = \"That person wears marvelous trousers.\"\n",
    "pattern = 'pers'\n",
    "strings = re.findall(pattern, text)\n",
    "print(strings)"
   ]
  },
  {
   "cell_type": "code",
   "execution_count": null,
   "metadata": {},
   "outputs": [],
   "source": [
    "re.findall(pattern, text)"
   ]
  },
  {
   "cell_type": "code",
   "execution_count": null,
   "metadata": {},
   "outputs": [],
   "source": [
    "pattern = 'a'\n",
    "re.findall(pattern, text)"
   ]
  },
  {
   "cell_type": "code",
   "execution_count": null,
   "metadata": {},
   "outputs": [],
   "source": [
    "pattern = 'er'\n",
    "re.findall(pattern, text)"
   ]
  },
  {
   "cell_type": "code",
   "execution_count": 4,
   "metadata": {},
   "outputs": [
    {
     "data": {
      "text/plain": [
       "['e', 'r', 'e', 'r', 'r', 'e', 'r', 'e', 'r']"
      ]
     },
     "execution_count": 4,
     "metadata": {},
     "output_type": "execute_result"
    }
   ],
   "source": [
    "pattern = '[er]'\n",
    "re.findall(pattern, text)"
   ]
  },
  {
   "cell_type": "code",
   "execution_count": null,
   "metadata": {},
   "outputs": [],
   "source": [
    "text = \"Is it spelled gray or grey or graey?\"\n",
    "\n",
    "pattern = 'gr[ae]y'\n",
    "re.findall(pattern, text)"
   ]
  },
  {
   "cell_type": "code",
   "execution_count": null,
   "metadata": {},
   "outputs": [],
   "source": [
    "text = 'This is an A and B \"conversation\" - so C your way out of it.'\n",
    "\n",
    "pattern = '[A-Z]'\n",
    "re.findall(pattern, text)\n"
   ]
  },
  {
   "cell_type": "code",
   "execution_count": null,
   "metadata": {},
   "outputs": [],
   "source": [
    "text = \"I'm not going to the party - \\because 1) Karen is going, 2] I don't like her, and 3) I already have a headache.\"\n",
    "\n",
    "pattern = '[0-9]' # '[0\\-9] is different!\n",
    "print(re.findall(pattern, text))"
   ]
  },
  {
   "cell_type": "code",
   "execution_count": null,
   "metadata": {},
   "outputs": [],
   "source": [
    "'''\n",
    "Meta-characters\n",
    "[]  : Match set of characters\n",
    ".   : Match any character except the newline character (\\n)\n",
    "^   : 1) Match characters not listed if within set or \n",
    "      2) match beginning of string\n",
    "$   : Match end of string\n",
    "|   : Functions as an \"OR\" operator\n",
    "'''\n",
    "print('')"
   ]
  },
  {
   "cell_type": "code",
   "execution_count": 5,
   "metadata": {},
   "outputs": [
    {
     "name": "stdout",
     "output_type": "stream",
     "text": [
      "My boss asked me to turn in my TPS reports. \n",
      "I told her they were done, but they are not.\n",
      "['M', 'y', ' ', 'b', 'o', 's', 's', ' ', 'a', 's', 'k', 'e', 'd', ' ', 'm', 'e', ' ', 't', 'o', ' ', 't', 'u', 'r', 'n', ' ', 'i', 'n', ' ', 'm', 'y', ' ', 'T', 'P', 'S', ' ', 'r', 'e', 'p', 'o', 'r', 't', 's', '.', ' ', 'I', ' ', 't', 'o', 'l', 'd', ' ', 'h', 'e', 'r', ' ', 't', 'h', 'e', 'y', ' ', 'w', 'e', 'r', 'e', ' ', 'd', 'o', 'n', 'e', ',', ' ', 'b', 'u', 't', ' ', 't', 'h', 'e', 'y', ' ', 'a', 'r', 'e', ' ', 'n', 'o', 't', '.']\n"
     ]
    }
   ],
   "source": [
    "text = \"My boss asked me to turn in my TPS reports. \\nI told her they were done, but they are not.\"\n",
    "print(text)\n",
    "pattern = '.'\n",
    "print(re.findall(pattern, text))"
   ]
  },
  {
   "cell_type": "code",
   "execution_count": 6,
   "metadata": {},
   "outputs": [
    {
     "name": "stdout",
     "output_type": "stream",
     "text": [
      "['M', 'y', ' ', 'o', 's', 's', ' ', 's', ' ', ' ', 't', 'o', ' ', 't', 'u', 'r', 'n', ' ', 'n', ' ', 'y', ' ', 'T', 'P', 'S', ' ', 'r', 'p', 'o', 'r', 't', 's', '.', ' ', '\\n', 'I', ' ', 't', 'o', ' ', 'r', ' ', 't', 'y', ' ', 'w', 'r', ' ', 'o', 'n', ',', ' ', 'u', 't', ' ', 't', 'y', ' ', 'r', ' ', 'n', 'o', 't', '.']\n"
     ]
    }
   ],
   "source": [
    "pattern = '[^a-m]'\n",
    "print(re.findall(pattern, text))"
   ]
  },
  {
   "cell_type": "code",
   "execution_count": 7,
   "metadata": {},
   "outputs": [
    {
     "name": "stdout",
     "output_type": "stream",
     "text": [
      "['My']\n"
     ]
    }
   ],
   "source": [
    "pattern = '^[Mm]y'\n",
    "print(re.findall(pattern, text))"
   ]
  },
  {
   "cell_type": "code",
   "execution_count": 8,
   "metadata": {},
   "outputs": [
    {
     "name": "stdout",
     "output_type": "stream",
     "text": [
      "['they are not.']\n"
     ]
    }
   ],
   "source": [
    "pattern = 'they are not.$'\n",
    "print(re.findall(pattern, text))\n"
   ]
  },
  {
   "cell_type": "code",
   "execution_count": null,
   "metadata": {},
   "outputs": [],
   "source": [
    "print('**'+text+'**')"
   ]
  },
  {
   "cell_type": "code",
   "execution_count": null,
   "metadata": {},
   "outputs": [],
   "source": [
    "text = \"My boss asked me to turn in myyy TPS reports. \\n I told my boss they were done, but they are not.\"\n",
    "print(text)\n",
    "\n",
    "pattern = '[Mm]y|TPS|reports'\n",
    "print(re.findall(pattern, text))"
   ]
  },
  {
   "cell_type": "code",
   "execution_count": null,
   "metadata": {},
   "outputs": [],
   "source": [
    "text.find('reports')  # does not use regex!"
   ]
  },
  {
   "cell_type": "code",
   "execution_count": null,
   "metadata": {},
   "outputs": [],
   "source": [
    "for x in re.finditer('[Mm]y|TPS|reports', text):\n",
    "    print(x)\n",
    "# list(re.finditer(pattern, text)) \n",
    "\n",
    "xlist = [x for x in re.finditer(r'[Mm]y|TPS|reports', text)]\n",
    "xlist"
   ]
  },
  {
   "cell_type": "code",
   "execution_count": null,
   "metadata": {},
   "outputs": [],
   "source": [
    "for match in re.finditer(r'[Mm]y|TPS|reports', text):\n",
    "    print (match.span()[0])\n",
    "    print(match.group())"
   ]
  },
  {
   "cell_type": "code",
   "execution_count": null,
   "metadata": {},
   "outputs": [],
   "source": [
    "'''\n",
    "specify number of character in the pattern:\n",
    "*: Matches previous character 0 or more times\n",
    "+: Matches previous character 1 or more times\n",
    "?: Matches previous character 0 or 1 times (optional)\n",
    "{}: Matches previous characters however many times specified within:\n",
    "{n} : Exactly n times \n",
    "{n,} : At least n times\n",
    "{n,m} : Between n and m times\n",
    "'''\n",
    "print('')"
   ]
  },
  {
   "cell_type": "code",
   "execution_count": null,
   "metadata": {},
   "outputs": [],
   "source": [
    "text = \"The complicit cat interacted with the other cats exactly as we expected.\"\n",
    "\n",
    "pattern = \"ca*t\"\n",
    "print(re.findall(pattern, text))"
   ]
  },
  {
   "cell_type": "code",
   "execution_count": 9,
   "metadata": {},
   "outputs": [
    {
     "name": "stdout",
     "output_type": "stream",
     "text": [
      "['caaaat', 'cat']\n"
     ]
    }
   ],
   "source": [
    "text = \"The complicit caaaat interacted with the other cats exactly as we expected.\"\n",
    "\n",
    "pattern = \"ca+t\"\n",
    "print(re.findall(pattern, text))"
   ]
  },
  {
   "cell_type": "code",
   "execution_count": null,
   "metadata": {},
   "outputs": [],
   "source": [
    "text = \"Is the correct spelling color or colour or colouuuur?\"\n",
    "\n",
    "pattern = \"colou?r\"\n",
    "print(re.findall(pattern, text))"
   ]
  },
  {
   "cell_type": "code",
   "execution_count": null,
   "metadata": {},
   "outputs": [],
   "source": [
    "text = \"Let's see how we can match the following: aw, aww, awww, awwww, awwwww\"\n",
    "\n",
    "pattern = \"aw{2}\"\n",
    "print(re.findall(pattern, text))"
   ]
  },
  {
   "cell_type": "code",
   "execution_count": null,
   "metadata": {},
   "outputs": [],
   "source": [
    "text = \"Let's see how we can match the following: aw, aww, awww, awwww, awwwww\"\n",
    "\n",
    "pattern = \"aw{2,}\"\n",
    "print(re.findall(pattern, text))"
   ]
  },
  {
   "cell_type": "code",
   "execution_count": null,
   "metadata": {},
   "outputs": [],
   "source": [
    "text = \"Let's see how we can match the following: aw, aww, awww, awwww, awwwww\"\n",
    "\n",
    "pattern = \"aw{2,4}\"\n",
    "print(re.findall(pattern, text))"
   ]
  },
  {
   "cell_type": "code",
   "execution_count": null,
   "metadata": {},
   "outputs": [],
   "source": [
    "'''\n",
    "Character classes\n",
    "\\w: Any alphanumeric character. equivalent to [A-Za-z0-9_]\n",
    "\\W: Any non-alphanumeric character. equivalent to [^A-Za-z0-9_]\n",
    "\\d: Any numeric character. [0-9]\n",
    "\\D: Any non-numeric character. [^0-9]\n",
    "\\s: Any whitespace characters. [ \\t\\n\\f]\n",
    "\\S: Any non-whitespace characters.\n",
    "'''"
   ]
  },
  {
   "cell_type": "code",
   "execution_count": null,
   "metadata": {},
   "outputs": [],
   "source": [
    "text = \"Th1s is going to_be a weird sentence: with @ bunch-of-$tuff in it <3.\"\n",
    "pattern = '\\w'\n",
    "print(re.findall(pattern, text))"
   ]
  },
  {
   "cell_type": "code",
   "execution_count": null,
   "metadata": {},
   "outputs": [],
   "source": [
    "text = \"Th1s is going to_be a weird sentence with @ bunch-of-$tuff in it <3.\"\n",
    "\n",
    "pattern = '\\W'\n",
    "print(re.findall(pattern, text))"
   ]
  },
  {
   "cell_type": "code",
   "execution_count": null,
   "metadata": {},
   "outputs": [],
   "source": [
    "text = \"Th1s is going to_be a weird sentence with @ bunch-of-$tuff in it <30.\"\n",
    "pattern = '\\d+'\n",
    "print(re.findall(pattern, text))"
   ]
  },
  {
   "cell_type": "code",
   "execution_count": null,
   "metadata": {},
   "outputs": [],
   "source": [
    "#extracting words\n",
    "text = \"If you tell the_truth, you don't have to remember anything. ä ü ö á ó í ñ ß \"\n",
    "\n",
    "pattern = \"[\\w']+\"\n",
    "print(re.findall(pattern, text))"
   ]
  },
  {
   "cell_type": "code",
   "execution_count": null,
   "metadata": {},
   "outputs": [],
   "source": []
  },
  {
   "cell_type": "code",
   "execution_count": null,
   "metadata": {},
   "outputs": [],
   "source": [
    "#words of specified minimum length\n",
    "pattern = \"[\\w']{5,}\"\n",
    "print(re.findall(pattern, text))"
   ]
  },
  {
   "cell_type": "code",
   "execution_count": null,
   "metadata": {},
   "outputs": [],
   "source": [
    "# as a curiosity: (you are not going to need this)\n",
    "#words of specified maximum length - have to use word boundary \\b - need \\\\b \n",
    "# \\\\b matches the boundary, but not any characters\n",
    "pattern=\"\\\\b[\\w']{1,5}\\\\b\"\n",
    "print(re.findall(pattern, text))"
   ]
  },
  {
   "cell_type": "code",
   "execution_count": null,
   "metadata": {},
   "outputs": [],
   "source": []
  },
  {
   "cell_type": "code",
   "execution_count": null,
   "metadata": {},
   "outputs": [],
   "source": [
    "text = \"TerraPower, a nuclear-energy company founded by Bill Gates, is unlikely to follow through on building a demonstration reactor in China, due largely to the Trump administration’s crackdown on the country.\"\n",
    "print(text)\n",
    "pattern = '[A-Z][a-z]+'\n",
    "print(re.findall(pattern, text))"
   ]
  },
  {
   "cell_type": "code",
   "execution_count": null,
   "metadata": {},
   "outputs": [],
   "source": [
    "pattern = '[A-Z][a-z]+ ?[A-Z][a-z]+'\n",
    "\n",
    "# pattern1 = '[A-Z][a-z]+|[A-Z][a-z]+ ?[A-Z][a-z]+'\n",
    "# pattern2 = '[A-Z][a-z]+ ?[A-Z][a-z]+|[A-Z][a-z]+'\n",
    "pattern = '([A-Z][a-z]+ ?[A-Z][a-z]+)|([A-Z][a-z]+)'\n",
    "print(re.findall(pattern, text))\n"
   ]
  },
  {
   "cell_type": "code",
   "execution_count": null,
   "metadata": {},
   "outputs": [],
   "source": [
    "text2 = \"My boss asked me to turn in my TPS reports. \\n I told him they were done, but they are not.\"\n",
    "pattern2 = '(boss)|(reports)|(TPS)'\n",
    "print(re.findall(pattern2, text2))\n"
   ]
  },
  {
   "cell_type": "code",
   "execution_count": null,
   "metadata": {},
   "outputs": [],
   "source": [
    "results = [i for j in re.findall(pattern2, text2) for i in j if i != '']\n",
    "results"
   ]
  },
  {
   "cell_type": "code",
   "execution_count": null,
   "metadata": {},
   "outputs": [],
   "source": []
  },
  {
   "cell_type": "code",
   "execution_count": null,
   "metadata": {},
   "outputs": [],
   "source": [
    "text = \"\"\"\n",
    "For eight young men the AP tracked down in Seattle, tech obsession has become something much darker, getting in the way of their normal lives.\n",
    "\"We’re talking flunk-your-classes, can’t-find-a-job, live-in-a-dark-hole kinds of problems, with depression, anxiety and sometimes suicidal thoughts part of the mix,\" the AP's Martha Irvine reports.\n",
    "\"\"\"\n",
    "\n",
    "print(text)\n",
    "pattern = '\".*\"'\n",
    "re.findall(pattern, text)"
   ]
  },
  {
   "cell_type": "code",
   "execution_count": 10,
   "metadata": {},
   "outputs": [],
   "source": [
    "\n",
    "text = \"\"\"\n",
    "Aeromexico 800-237-6639\n",
    "Air Canada 888-247-2262\n",
    "Air Canada Rouge 888-247-2262\n",
    "Air Creebec 800-567-6567\n",
    "Air Inuit 800-361-2965\n",
    "Air North 800-661-0407\n",
    "Air Tindi 888-545-6794\n",
    "Air Transat 866-847-1112\n",
    "Alaska Airlines 800-426-0333,866-516-1685\n",
    "Allegiant Air 702-505-8888\n",
    "American Airlines 800-433-7300\n",
    "Bearskin Airlines 807-577-1141\n",
    "Buffalo Airways 867-874-3333\n",
    "Calm Air 800-839-2256\n",
    "Cape Air 800-227-3247\n",
    "Delta Air Lines 800-455-2720\n",
    "First Air 800-267-1247\n",
    "Flair Airlines 204-888-2665\n",
    "Frontier Airlines 801-401-9000\n",
    "Harb-or-Air 800-665-0212\n",
    "Hawaiian Airlines 877-426-4537\n",
    "Horizon Air 800-547-9308\n",
    "InterJet 866-285-8307\n",
    "Island Air 800-388-1105\n",
    "JetBlue 800-538-2583\n",
    "Porter Airlines 888-619-8622\n",
    "Silver Airways 801-401-9100\n",
    "Southwest Airlines 800-435-9792\n",
    "Spirit Airlines 801-401-2222\n",
    "Sun Country Airlines 800-359-6786\n",
    "Sunwing 877-SUN-WING\n",
    "Thunder Airlines 800-803-9943\n",
    "United Airlines 800-864-8331\n",
    "Virgin America 877-359-8474\n",
    "VivaAerobus 888-935-988 \n",
    "Volaris 855-865-2747\n",
    "WestJet Airlines 888-937-8538\n",
    "\"\"\""
   ]
  },
  {
   "cell_type": "code",
   "execution_count": 11,
   "metadata": {},
   "outputs": [
    {
     "data": {
      "text/plain": [
       "['800-237-6639',\n",
       " '888-247-2262',\n",
       " '888-247-2262',\n",
       " '800-567-6567',\n",
       " '800-361-2965',\n",
       " '800-661-0407',\n",
       " '888-545-6794',\n",
       " '866-847-1112',\n",
       " '800-426-0333',\n",
       " '866-516-1685',\n",
       " '702-505-8888',\n",
       " '800-433-7300',\n",
       " '807-577-1141',\n",
       " '867-874-3333',\n",
       " '800-839-2256',\n",
       " '800-227-3247',\n",
       " '800-455-2720',\n",
       " '800-267-1247',\n",
       " '204-888-2665',\n",
       " '801-401-9000',\n",
       " '800-665-0212',\n",
       " '877-426-4537',\n",
       " '800-547-9308',\n",
       " '866-285-8307',\n",
       " '800-388-1105',\n",
       " '800-538-2583',\n",
       " '888-619-8622',\n",
       " '801-401-9100',\n",
       " '800-435-9792',\n",
       " '801-401-2222',\n",
       " '800-359-6786',\n",
       " '877-SUN-WING',\n",
       " '800-803-9943',\n",
       " '800-864-8331',\n",
       " '877-359-8474',\n",
       " '888-935-988',\n",
       " '855-865-2747',\n",
       " '888-937-8538']"
      ]
     },
     "execution_count": 11,
     "metadata": {},
     "output_type": "execute_result"
    }
   ],
   "source": [
    "pattern = '\\d{3}-[0-9A-Z]{3}-[0-9A-Z]{3,4}'\n",
    "re.findall(pattern, text)"
   ]
  },
  {
   "cell_type": "code",
   "execution_count": null,
   "metadata": {},
   "outputs": [],
   "source": []
  },
  {
   "cell_type": "code",
   "execution_count": null,
   "metadata": {},
   "outputs": [],
   "source": []
  },
  {
   "cell_type": "code",
   "execution_count": null,
   "metadata": {
    "scrolled": true
   },
   "outputs": [],
   "source": []
  },
  {
   "cell_type": "code",
   "execution_count": null,
   "metadata": {},
   "outputs": [],
   "source": []
  },
  {
   "cell_type": "code",
   "execution_count": null,
   "metadata": {},
   "outputs": [],
   "source": []
  },
  {
   "cell_type": "code",
   "execution_count": null,
   "metadata": {},
   "outputs": [],
   "source": []
  },
  {
   "cell_type": "code",
   "execution_count": null,
   "metadata": {},
   "outputs": [],
   "source": [
    "print('\\d')\n",
    "print('\\\\d')\n",
    "print('\\\\\\d')\n",
    "\n",
    "print(\"\\p\")\n",
    "print(\"\\\\p\")\n",
    "print(\"\\\\\\p\")\n",
    "\n",
    "print(r'\\d')\n",
    "print(r'\\\\d')\n",
    "print(r'\\\\\\d')"
   ]
  },
  {
   "cell_type": "code",
   "execution_count": null,
   "metadata": {},
   "outputs": [],
   "source": [
    "text = r'I am not going to the party - \\\\ because 1) Karen is going, 2] I do not like her, and 3) I already have a headache.'\n",
    "\n",
    "pattern = r'\\\\'\n",
    "re.findall(pattern, text)"
   ]
  },
  {
   "cell_type": "code",
   "execution_count": null,
   "metadata": {},
   "outputs": [],
   "source": [
    "len(re.findall(pattern, text)[1])"
   ]
  },
  {
   "cell_type": "code",
   "execution_count": null,
   "metadata": {},
   "outputs": [],
   "source": []
  },
  {
   "cell_type": "code",
   "execution_count": null,
   "metadata": {},
   "outputs": [],
   "source": []
  },
  {
   "cell_type": "code",
   "execution_count": null,
   "metadata": {},
   "outputs": [],
   "source": [
    "text = \"testing testing one two three testing\"\n",
    "pattern1 = 'testing|testing testing'\n",
    "pattern2 = 'testing testing|testing'\n",
    "print(re.findall(pattern1, text))\n",
    "print(re.findall(pattern2, text))\n"
   ]
  },
  {
   "cell_type": "code",
   "execution_count": null,
   "metadata": {},
   "outputs": [],
   "source": []
  }
 ],
 "metadata": {
  "kernelspec": {
   "display_name": "Python 3 (ipykernel)",
   "language": "python",
   "name": "python3"
  },
  "language_info": {
   "codemirror_mode": {
    "name": "ipython",
    "version": 3
   },
   "file_extension": ".py",
   "mimetype": "text/x-python",
   "name": "python",
   "nbconvert_exporter": "python",
   "pygments_lexer": "ipython3",
   "version": "3.11.5"
  }
 },
 "nbformat": 4,
 "nbformat_minor": 4
}
